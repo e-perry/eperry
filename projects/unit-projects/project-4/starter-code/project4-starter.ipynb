{
 "cells": [
  {
   "cell_type": "markdown",
   "metadata": {},
   "source": [
    "# Project 4\n",
    "\n",
    "In this project, you will summarize and present your analysis from Projects 1-3."
   ]
  },
  {
   "cell_type": "markdown",
   "metadata": {},
   "source": [
    "### Intro: Write a problem Statement/ Specific Aim for this project"
   ]
  },
  {
   "cell_type": "markdown",
   "metadata": {},
   "source": [
    "Answer: \n",
    "\n",
    "Utilizing grad school admissions data, the goal of the prior projects was to determine which of the variables (GPA, GRE score, prestige of undergrad school) are the best predictors of whether or not a student will be admitted into grad school. Using the data set provided, I was able to analyze, predict, and determine which factors (or variables) have the greatest impact on being admitted to grad school.\n"
   ]
  },
  {
   "cell_type": "markdown",
   "metadata": {},
   "source": [
    "### Dataset:  Write up a description of your data and any cleaning that was completed"
   ]
  },
  {
   "cell_type": "markdown",
   "metadata": {},
   "source": [
    "Answer: \n",
    "\n",
    "To understand the dataset, I first read it in to Jupyter Notebook from the CSV file using the Pandas library and the read CSV function. (Throughout this project, I also used NumPy, Matplotlib, and Seaborn to perform data exploration.) This provided the opportunity to see how many columns existed, what the column names were, data types, as well as the number of rows. I was able able to ascertain if there was any null data by running the count function.\n",
    "\n",
    "After the initial read-in and review of the data, the first step I took was to drop the null values. This left 397 rows of data for use in my projects. Included in the data were four columns, admit (yes = 1, no = 0), GRE (score), GPA, and Prestige. \n",
    "\n",
    "Once I assessed the data, I was able to do some data exploration using python and various python library. An overview of the data exploration include:\n",
    "- For GPA, the values ranged from a low of 2.42 to a high of 4.0. The average (mean) GPA is 3.39.\n",
    "- For GRE, the scores range from a low of 220 to a high of 800. The average (mean) GRE score is 587.86\n",
    "- For prestige, there are four ordinal categories - 1, 2, 3, 4. The #1 rank is the top rank with #4 being the lowest rank. The Average prestige is 2.49. \n",
    "\n",
    "Throughout this data exploration, I was also able to see how the data was skewed. Examples of this include:\n",
    "\n",
    "There are a total of 397 rows of data which for prestige means that we have the below data distribution. In reviewing this data, we can see that most of the students in our dataset attended a school that was ranked two or three. Having a data set where most of the students (67.8%) came from a school ranked 2 or 3, has the potential to skew our predictions.\n",
    "\n",
    "| Rank | Count | Percent\n",
    "| -- | -- | -- \n",
    "| 1.0  |   61  | 15.4%\n",
    "| 2.0  |  148  | 37.3%\n",
    "| 3.0  |  121  | 30.5%\n",
    "| 4.0  |   67  | 16.9%\n",
    "\n",
    "\n",
    "In looking at the admissions column of the data, I utilized the groupby functin in order to get an idea of the data distribution. In the dataset, 271 people -- or 68.3% -- were not admitted to grad school. There were 126 people -- or 31.7% -- who were admitted. As with Prestige, the fact that most of the dataset was not admitted into grad school has the potential to skew our predictions. \n",
    "\n",
    "| Rank | Count\n",
    "| -- | --\n",
    "| 1.0  |   61\n",
    "| 2.0  |  148\n",
    "| 3.0  |  121\n",
    "| 4.0  |   67\n",
    "\n",
    "I also noticed there are no dates or time information included in the data set. This  means that we cannnot say whether these were fall admissions, spring admissions, or both. We also can conclude whether or not the data came from one year or admissions cycle, or multiple admissions cycles."
   ]
  },
  {
   "cell_type": "markdown",
   "metadata": {
    "collapsed": true
   },
   "source": [
    "### Demo: Provide a table that explains the data by admission status"
   ]
  },
  {
   "cell_type": "markdown",
   "metadata": {},
   "source": [
    "Mean (STD) or counts by admission status for each variable \n",
    "\n",
    "| Not Admitted | Admitted\n",
    "---| ---|---\n",
    "GPA | Mean: 3.347159 (std: 0.376355)  | Mean: 3.489206 (std: 0.371655)\n",
    "GRE |Mean: 573.579336 (std: 116.052798) | Mean: 618.571429 (std: 109.257233)\n",
    "Prestige 1 | 28 (7%) | 33 (8.3%)\n",
    "Prestige 2 | 95 (23.9%) | 53 (13.4%)\n",
    "Prestige 3 |93 (23.4%) | 28 (7%)\n",
    "Prestige 4 |55 (13.9%) | 12 (3%)"
   ]
  },
  {
   "cell_type": "markdown",
   "metadata": {},
   "source": [
    "### Methods: Write up the methods used in your analysis"
   ]
  },
  {
   "cell_type": "markdown",
   "metadata": {},
   "source": [
    "Answer: \n",
    "\n",
    "Our analysis utilized python as the base code and a number of different python libraries in order to analyze the data. Throughout this project, I also used NumPy, Matplotlib, and Seaborn to perform data exploration.\n",
    "\n",
    "For the descriptive analysis portion of the project, I relied heavily on Pandas for learning about the provided dataset. I first used it to read-in the data and create a dataframe. (These findings are summarized in the questions above.) At a high level, Pandas allowed me to asses the data, obtain value counts, calculate the percentages for each value count, group the data to create frequency tables and more. All of this work was done in order to have an idea of the data that I was working with. \n",
    "\n",
    "Once that effort was complete and I began plotting and graphing to expand my analysis, I utilized mat plot lib for that portion of the work. I initially used mat plot lib for histograms as another way to analyze my data. It's an esy library to use that quick provides a visual representation of the data you're working with.\n",
    "\n",
    "The Pandas library was a constant throughout the entire project. When I moved on to utilizing my data to make predictions, Pandas allowed me to create dummary variables. Once the dummary variables were created, I was able to insert them into my dataframe and then remove the original dataset which was no longer needed. If you use the original dataset, then you have a perfectly fit model which does not make it a good predictor for other datasets.\n",
    "\n",
    "For regression, I utilized Logistic Regression and statsmodels. This provided the opportunity to predict using the dummary variables and with the statsmodels Logit Regression Results table determine our confidence interval. "
   ]
  },
  {
   "cell_type": "markdown",
   "metadata": {},
   "source": [
    "### Results: Write up your results"
   ]
  },
  {
   "cell_type": "markdown",
   "metadata": {},
   "source": [
    "Answer:\n",
    "\n",
    "Based upon the data analysis and prediction that I did, I found that the probability of being accepted into a grad school is higher for students who attended a top ranked (Prestige 1) undergraduate school versus a lower ranked school (such as Prestige 4). \n",
    "\n",
    "Those students who went to a college that had a prestige of two, are half as likely to be admitted into grad school as those students who went to a prestige 1 school."
   ]
  },
  {
   "cell_type": "markdown",
   "metadata": {},
   "source": [
    "### Visuals: Provide a table or visualization of these results"
   ]
  },
  {
   "cell_type": "code",
   "execution_count": 1,
   "metadata": {
    "collapsed": true
   },
   "outputs": [],
   "source": [
    "%matplotlib inline\n",
    "import matplotlib.pyplot as plt\n",
    "import pandas as pd\n",
    "import statsmodels.api as sm\n",
    "import pylab as pl\n",
    "import numpy as np"
   ]
  },
  {
   "cell_type": "code",
   "execution_count": 3,
   "metadata": {
    "collapsed": false
   },
   "outputs": [],
   "source": [
    "df_raw = pd.read_csv(\"../assets/admissions.csv\")\n",
    "df = df_raw.dropna() "
   ]
  },
  {
   "cell_type": "code",
   "execution_count": 4,
   "metadata": {
    "collapsed": false
   },
   "outputs": [
    {
     "data": {
      "text/plain": [
       "<matplotlib.axes._subplots.AxesSubplot at 0x1151c5f10>"
      ]
     },
     "execution_count": 4,
     "metadata": {},
     "output_type": "execute_result"
    },
    {
     "data": {
      "image/png": "[encoded data removed]",
      "text/plain": [
       "<matplotlib.figure.Figure at 0x1151c58d0>"
      ]
     },
     "metadata": {},
     "output_type": "display_data"
    }
   ],
   "source": [
    "df.plot('admit', 'prestige', kind = 'hist')"
   ]
  },
  {
   "cell_type": "code",
   "execution_count": 5,
   "metadata": {
    "collapsed": false
   },
   "outputs": [
    {
     "data": {
      "text/plain": [
       "<matplotlib.axes._subplots.AxesSubplot at 0x1152b6f50>"
      ]
     },
     "execution_count": 5,
     "metadata": {},
     "output_type": "execute_result"
    },
    {
     "data": {
      "image/png": "[encoded data removed]",
      "text/plain": [
       "<matplotlib.figure.Figure at 0x115443190>"
      ]
     },
     "metadata": {},
     "output_type": "display_data"
    }
   ],
   "source": [
    "df.plot('admit', 'gre', kind = 'hist')"
   ]
  },
  {
   "cell_type": "code",
   "execution_count": 6,
   "metadata": {
    "collapsed": false
   },
   "outputs": [
    {
     "data": {
      "text/plain": [
       "<matplotlib.axes._subplots.AxesSubplot at 0x115593690>"
      ]
     },
     "execution_count": 6,
     "metadata": {},
     "output_type": "execute_result"
    },
    {
     "data": {
      "image/png": "[encoded data removed]",
      "text/plain": [
       "<matplotlib.figure.Figure at 0x1155a82d0>"
      ]
     },
     "metadata": {},
     "output_type": "display_data"
    }
   ],
   "source": [
    "df.plot('admit', 'gpa', kind = 'hist')"
   ]
  },
  {
   "cell_type": "markdown",
   "metadata": {},
   "source": [
    "### Discussion: Write up your discussion and future steps"
   ]
  },
  {
   "cell_type": "markdown",
   "metadata": {},
   "source": [
    "Answer: Future steps for expanding this project include:\n",
    "\n",
    "1. Gathering new admissions data - either from different times of the year (fall admission or spring admission) or from multiple admissions cycles. With the data we utilized, we were given no date information so we can't conclusively say if the results are a good predictor of fall admission or spring admission. \n",
    "\n",
    "2. Explore the other variables in the dataset - such as GRE score and GPA - in order to determine how those impact grad school admittance."
   ]
  }
 ],
 "metadata": {
  "anaconda-cloud": {},
  "kernelspec": {
   "display_name": "Python [default]",
   "language": "python",
   "name": "python2"
  },
  "language_info": {
   "codemirror_mode": {
    "name": "ipython",
    "version": 2
   },
   "file_extension": ".py",
   "mimetype": "text/x-python",
   "name": "python",
   "nbconvert_exporter": "python",
   "pygments_lexer": "ipython2",
   "version": "2.7.12"
  }
 },
 "nbformat": 4,
 "nbformat_minor": 0
}
